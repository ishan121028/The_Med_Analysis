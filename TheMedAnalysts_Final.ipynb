{
 "cells": [
  {
   "cell_type": "markdown",
   "id": "02307e40",
   "metadata": {},
   "source": [
    "<center> <font size=\"6\"> AE102 : PROJECT </font> <br>\n",
    "    <font size=\"5\"> The MedAnalysts </font> <br>\n",
    "    <font size=\"4\">Team : <br> Aayushi Barve : 210010002 <br>\n",
    "    Apoorva Kanti : 210010013<br>\n",
    "        Disha Gupta : 210010025<br>\n",
    "        Ishan Upadhyay : 210010030\n",
    "    </font></center>"
   ]
  },
  {
   "cell_type": "markdown",
   "id": "61229663",
   "metadata": {},
   "source": [
    "## Introduction"
   ]
  },
  {
   "cell_type": "markdown",
   "id": "6b05be1c",
   "metadata": {},
   "source": [
    "When we thought of a topic for this project, we realized instead of taking a dataset from the internet, we could also collect the data from people we knew, friends and family. That way, we would also understand where and how it was coming from.<br>\n",
    "Coming to the actual topic, we decided to collect data on seasonal illnesses, preferred treatment methods and self-medication. We had often seen family members or friends avoiding a visit to the doctor unless it was absolutely necessary, so we decided to see if this was something commonly observed or it was just the case with people around us.<br><br>\n",
    "We created a Google form to collect data, which included fields like age group, health complaints seen in every season, priority order of treatment methods and commonly taken OTC medicines.<br><br>\n",
    "The link to the form : https://docs.google.com/forms/d/e/1FAIpQLSemDfFQ4T9o6Kn-Ka_3SHuEWY1r-RrZczjK09CgOdLco6brWw/viewform?usp=sf_link <br><br>\n",
    "After receiving close to 300 responses, we had quite a lot of data to look at. The challenge we faced, however, was to convert this data into numerical quantities. Most of the questions in the form were multiple choice questions, so we had to find a way to conver the answers we got into numerical data. We decided to keep it simple, and define the random variable as the number of illnesses a person suffered from in a particular season, and for the second case, the most preferred treatment method. The values would be the particular index assigned to a specific treatment method.<br><br>\n",
    "Since there were quite a few different ways the analysis could have been done in, to avoid a lot of confusion we decided to exclude some of the data we collected from the analysis, which was the OTC medicines section. Instead, we focused on just seasonal illnesses and most preferred treatment methods.<br><br>\n",
    "Once we had converted the data into numerical terms, we plotted it in various formats like histograms, stem plots and joint plots to observe the behaviour of the distribution. After observing these plots, we got a clearer idea of what our hypothesis would be, and how we would test it.<br><br>\n",
    "We hypothesised that the seasonal illnesses occuring in winters were more than those in monsoon, choosing this as the hypothesis is to get a general idea about people getting more sick in a particular season. The result we obtained was quite surprising. This notebook contains all the code that we used to convert the data into numerical random variables, plotting their distributions and performing hypothesis tests on the variables."
   ]
  },
  {
   "cell_type": "code",
   "execution_count": 22,
   "id": "802a8c81",
   "metadata": {},
   "outputs": [],
   "source": [
    "import matplotlib.pyplot as plt\n",
    "import numpy as np\n",
    "import seaborn as sns\n",
    "import pandas as pd\n",
    "import scipy.stats as stats\n",
    "%matplotlib inline"
   ]
  },
  {
   "cell_type": "markdown",
   "id": "6c654de4-0729-40b6-b316-030ac7def025",
   "metadata": {},
   "source": [
    "## Dataset and Random Variables"
   ]
  },
  {
   "cell_type": "code",
   "execution_count": 3,
   "id": "ad427e83",
   "metadata": {},
   "outputs": [],
   "source": [
    "data=pd.read_csv('TheMedAnalysts.csv')"
   ]
  },
  {
   "cell_type": "code",
   "execution_count": 3,
   "id": "5ee06a88",
   "metadata": {},
   "outputs": [
    {
     "data": {
      "text/html": [
       "<div>\n",
       "<style scoped>\n",
       "    .dataframe tbody tr th:only-of-type {\n",
       "        vertical-align: middle;\n",
       "    }\n",
       "\n",
       "    .dataframe tbody tr th {\n",
       "        vertical-align: top;\n",
       "    }\n",
       "\n",
       "    .dataframe thead th {\n",
       "        text-align: right;\n",
       "    }\n",
       "</style>\n",
       "<table border=\"1\" class=\"dataframe\">\n",
       "  <thead>\n",
       "    <tr style=\"text-align: right;\">\n",
       "      <th></th>\n",
       "      <th>Timestamp</th>\n",
       "      <th>Name</th>\n",
       "      <th>Age group</th>\n",
       "      <th>Gender</th>\n",
       "      <th>Spring/Autumn</th>\n",
       "      <th>Summer</th>\n",
       "      <th>Monsoon</th>\n",
       "      <th>Winter</th>\n",
       "      <th>#1</th>\n",
       "      <th>#2</th>\n",
       "      <th>#3</th>\n",
       "      <th>#4</th>\n",
       "      <th>Do you take over-the-counter medication?</th>\n",
       "      <th>If yes, which of these do you take? (If your answer to the previous question was no, you do not need to answer this question)</th>\n",
       "      <th>Unnamed: 14</th>\n",
       "    </tr>\n",
       "  </thead>\n",
       "  <tbody>\n",
       "    <tr>\n",
       "      <th>0</th>\n",
       "      <td>2022/05/03 7:53:59 PM GMT+5:30</td>\n",
       "      <td>Anonymous</td>\n",
       "      <td>19-27 years</td>\n",
       "      <td>Female</td>\n",
       "      <td>Throat infection/cold;Seasonal hairfall</td>\n",
       "      <td>None</td>\n",
       "      <td>None</td>\n",
       "      <td>Common cold/Flu;Viral infections</td>\n",
       "      <td>Home remedies</td>\n",
       "      <td>Over-the-counter medication (Allopathic)</td>\n",
       "      <td>Visit a doctor</td>\n",
       "      <td>Ayurvedic medicines</td>\n",
       "      <td>Yes</td>\n",
       "      <td>Cough syrup;Fever reducers</td>\n",
       "      <td>NaN</td>\n",
       "    </tr>\n",
       "    <tr>\n",
       "      <th>1</th>\n",
       "      <td>2022/05/03 7:55:55 PM GMT+5:30</td>\n",
       "      <td>SSK</td>\n",
       "      <td>13-18 years</td>\n",
       "      <td>Female</td>\n",
       "      <td>Throat infection/cold</td>\n",
       "      <td>None</td>\n",
       "      <td>Dengue</td>\n",
       "      <td>Common cold/Flu</td>\n",
       "      <td>Home remedies</td>\n",
       "      <td>Ayurvedic medicines</td>\n",
       "      <td>Visit a doctor</td>\n",
       "      <td>Visit a doctor</td>\n",
       "      <td>No</td>\n",
       "      <td>NaN</td>\n",
       "      <td>NaN</td>\n",
       "    </tr>\n",
       "    <tr>\n",
       "      <th>2</th>\n",
       "      <td>2022/05/03 7:56:18 PM GMT+5:30</td>\n",
       "      <td>Harsh</td>\n",
       "      <td>19-27 years</td>\n",
       "      <td>Male</td>\n",
       "      <td>Throat infection/cold</td>\n",
       "      <td>Heat stroke</td>\n",
       "      <td>Food poisoning</td>\n",
       "      <td>Common cold/Flu;Viral infections</td>\n",
       "      <td>Over-the-counter medication (Allopathic)</td>\n",
       "      <td>Home remedies</td>\n",
       "      <td>Visit a doctor</td>\n",
       "      <td>Ayurvedic medicines</td>\n",
       "      <td>Yes</td>\n",
       "      <td>Pain killers;Cough syrup;Fever reducers;Gastro...</td>\n",
       "      <td>NaN</td>\n",
       "    </tr>\n",
       "    <tr>\n",
       "      <th>3</th>\n",
       "      <td>2022/05/03 7:56:54 PM GMT+5:30</td>\n",
       "      <td>Navyansh Mahla</td>\n",
       "      <td>19-27 years</td>\n",
       "      <td>Male</td>\n",
       "      <td>None</td>\n",
       "      <td>None</td>\n",
       "      <td>Food poisoning</td>\n",
       "      <td>Common cold/Flu;Viral infections</td>\n",
       "      <td>Home remedies</td>\n",
       "      <td>Ayurvedic medicines</td>\n",
       "      <td>Over-the-counter medication (Allopathic)</td>\n",
       "      <td>Visit a doctor</td>\n",
       "      <td>Yes</td>\n",
       "      <td>Cough syrup;Fever reducers</td>\n",
       "      <td>NaN</td>\n",
       "    </tr>\n",
       "    <tr>\n",
       "      <th>4</th>\n",
       "      <td>2022/05/03 7:57:10 PM GMT+5:30</td>\n",
       "      <td>Anshika Raman</td>\n",
       "      <td>13-18 years</td>\n",
       "      <td>Female</td>\n",
       "      <td>Seasonal hairfall</td>\n",
       "      <td>None</td>\n",
       "      <td>Typhoid</td>\n",
       "      <td>Common cold/Flu</td>\n",
       "      <td>Visit a doctor</td>\n",
       "      <td>Home remedies</td>\n",
       "      <td>Ayurvedic medicines</td>\n",
       "      <td>Over-the-counter medication (Allopathic)</td>\n",
       "      <td>No</td>\n",
       "      <td>NaN</td>\n",
       "      <td>NaN</td>\n",
       "    </tr>\n",
       "  </tbody>\n",
       "</table>\n",
       "</div>"
      ],
      "text/plain": [
       "                        Timestamp             Name    Age group  Gender  \\\n",
       "0  2022/05/03 7:53:59 PM GMT+5:30       Anonymous   19-27 years  Female   \n",
       "1  2022/05/03 7:55:55 PM GMT+5:30              SSK  13-18 years  Female   \n",
       "2  2022/05/03 7:56:18 PM GMT+5:30            Harsh  19-27 years    Male   \n",
       "3  2022/05/03 7:56:54 PM GMT+5:30  Navyansh Mahla   19-27 years    Male   \n",
       "4  2022/05/03 7:57:10 PM GMT+5:30    Anshika Raman  13-18 years  Female   \n",
       "\n",
       "                             Spring/Autumn       Summer         Monsoon  \\\n",
       "0  Throat infection/cold;Seasonal hairfall         None            None   \n",
       "1                    Throat infection/cold         None          Dengue   \n",
       "2                    Throat infection/cold  Heat stroke  Food poisoning   \n",
       "3                                     None         None  Food poisoning   \n",
       "4                        Seasonal hairfall         None         Typhoid   \n",
       "\n",
       "                             Winter                                        #1  \\\n",
       "0  Common cold/Flu;Viral infections                             Home remedies   \n",
       "1                   Common cold/Flu                             Home remedies   \n",
       "2  Common cold/Flu;Viral infections  Over-the-counter medication (Allopathic)   \n",
       "3  Common cold/Flu;Viral infections                             Home remedies   \n",
       "4                   Common cold/Flu                            Visit a doctor   \n",
       "\n",
       "                                         #2  \\\n",
       "0  Over-the-counter medication (Allopathic)   \n",
       "1                       Ayurvedic medicines   \n",
       "2                             Home remedies   \n",
       "3                       Ayurvedic medicines   \n",
       "4                             Home remedies   \n",
       "\n",
       "                                         #3  \\\n",
       "0                            Visit a doctor   \n",
       "1                            Visit a doctor   \n",
       "2                            Visit a doctor   \n",
       "3  Over-the-counter medication (Allopathic)   \n",
       "4                       Ayurvedic medicines   \n",
       "\n",
       "                                         #4  \\\n",
       "0                       Ayurvedic medicines   \n",
       "1                            Visit a doctor   \n",
       "2                       Ayurvedic medicines   \n",
       "3                            Visit a doctor   \n",
       "4  Over-the-counter medication (Allopathic)   \n",
       "\n",
       "  Do you take over-the-counter medication?  \\\n",
       "0                                      Yes   \n",
       "1                                       No   \n",
       "2                                      Yes   \n",
       "3                                      Yes   \n",
       "4                                       No   \n",
       "\n",
       "  If yes, which of these do you take? (If your answer to the previous question was no, you do not need to answer this question)  \\\n",
       "0                         Cough syrup;Fever reducers                                                                              \n",
       "1                                                NaN                                                                              \n",
       "2  Pain killers;Cough syrup;Fever reducers;Gastro...                                                                              \n",
       "3                         Cough syrup;Fever reducers                                                                              \n",
       "4                                                NaN                                                                              \n",
       "\n",
       "  Unnamed: 14  \n",
       "0         NaN  \n",
       "1         NaN  \n",
       "2         NaN  \n",
       "3         NaN  \n",
       "4         NaN  "
      ]
     },
     "execution_count": 3,
     "metadata": {},
     "output_type": "execute_result"
    }
   ],
   "source": [
    "data.head()"
   ]
  },
  {
   "cell_type": "markdown",
   "id": "2d9f6c30",
   "metadata": {},
   "source": [
    "The first random variable we have chosen has values equal to the number of times a person falls sick in a particular season. So, the random variable will have the value \"0\" if the person does not fall sick at all, and will have a positive integer value if he falls sick once or more. <br>\n",
    "The code below shows 4 differennt lists, one for each season, that records these values."
   ]
  },
  {
   "cell_type": "code",
   "execution_count": 4,
   "id": "25bb96a8",
   "metadata": {},
   "outputs": [],
   "source": [
    "frequency_list_soa=[]\n",
    "for i in range(273):\n",
    "    ill=data.loc[i].at[\"Spring/Autumn\"]\n",
    "    number=1\n",
    "    if ill=='None':\n",
    "        number=0\n",
    "    else:\n",
    "        for letter in ill:\n",
    "            if letter==';':\n",
    "                number+=1\n",
    "    frequency_list_soa.append(number)"
   ]
  },
  {
   "cell_type": "code",
   "execution_count": 5,
   "id": "bd5b3647",
   "metadata": {},
   "outputs": [
    {
     "name": "stdout",
     "output_type": "stream",
     "text": [
      "[2, 1, 1, 0, 1, 1, 2, 1, 2, 0, 2, 0, 0, 1, 1, 1, 2, 1, 1, 1, 2, 0, 2, 0, 1, 0, 0, 7, 1, 1, 1, 1, 1, 0, 0, 0, 3, 0, 3, 1, 2, 2, 0, 0, 3, 1, 7, 0, 1, 1, 1, 1, 3, 4, 2, 2, 0, 1, 5, 0, 2, 1, 2, 0, 1, 1, 0, 0, 1, 2, 1, 0, 2, 2, 1, 0, 2, 3, 0, 1, 1, 0, 0, 0, 0, 2, 0, 2, 0, 2, 1, 1, 2, 1, 1, 3, 0, 0, 0, 0, 1, 0, 1, 0, 1, 0, 1, 0, 0, 0, 1, 0, 0, 0, 0, 0, 2, 0, 0, 2, 1, 2, 0, 1, 0, 0, 0, 0, 0, 1, 2, 0, 0, 2, 0, 1, 1, 0, 3, 0, 2, 1, 1, 1, 0, 0, 3, 3, 0, 2, 0, 3, 1, 1, 2, 1, 1, 1, 0, 1, 4, 1, 0, 2, 2, 1, 1, 1, 0, 1, 1, 2, 1, 1, 2, 1, 0, 1, 3, 1, 1, 1, 1, 3, 2, 1, 0, 0, 0, 0, 1, 0, 2, 4, 2, 2, 0, 0, 2, 0, 0, 1, 0, 1, 0, 2, 2, 1, 1, 3, 0, 1, 2, 1, 0, 0, 2, 2, 0, 0, 4, 1, 1, 2, 2, 2, 2, 2, 0, 1, 3, 1, 3, 0, 2, 3, 3, 0, 0, 0, 1, 2, 3, 1, 1, 0, 2, 2, 1, 1, 1, 2, 1, 0, 2, 1, 1, 1, 3, 1, 0, 2, 0, 0, 0, 2, 3, 1, 1, 1, 3, 1, 2]\n"
     ]
    }
   ],
   "source": [
    "print(frequency_list_soa)"
   ]
  },
  {
   "cell_type": "code",
   "execution_count": 6,
   "id": "be884fd3",
   "metadata": {},
   "outputs": [
    {
     "data": {
      "text/plain": [
       "<StemContainer object of 3 artists>"
      ]
     },
     "execution_count": 6,
     "metadata": {},
     "output_type": "execute_result"
    },
    {
     "data": {
      "image/png": "[encoded data removed]",
      "text/plain": [
       "<Figure size 432x288 with 1 Axes>"
      ]
     },
     "metadata": {
      "needs_background": "light"
     },
     "output_type": "display_data"
    }
   ],
   "source": [
    "l=len(frequency_list_soa)\n",
    "count_list=[]\n",
    "for i in range(8):\n",
    "    count=0\n",
    "    for j in range(l):\n",
    "        if frequency_list_soa[j]==i:\n",
    "            count+=1\n",
    "    count_list.append(count)\n",
    "plt.stem([0,1,2,3,4,5,6,7],count_list)"
   ]
  },
  {
   "cell_type": "code",
   "execution_count": 7,
   "id": "38311edd",
   "metadata": {},
   "outputs": [],
   "source": [
    "frequency_list_summer=[]\n",
    "for i in range(273):\n",
    "    ill=data.loc[i].at[\"Summer\"]\n",
    "    number=1\n",
    "    if ill=='None':\n",
    "        number=0\n",
    "    else:\n",
    "        for letter in ill:\n",
    "            if letter==';':\n",
    "                number+=1\n",
    "    frequency_list_summer.append(number)"
   ]
  },
  {
   "cell_type": "code",
   "execution_count": 8,
   "id": "d252ad27-26bf-4b8c-a584-abbf52f3c1e9",
   "metadata": {},
   "outputs": [
    {
     "name": "stdout",
     "output_type": "stream",
     "text": [
      "[0, 0, 1, 0, 0, 0, 2, 1, 0, 1, 2, 0, 2, 1, 0, 0, 1, 3, 1, 1, 3, 0, 2, 0, 0, 0, 0, 5, 1, 0, 2, 0, 0, 0, 0, 0, 2, 0, 2, 0, 1, 3, 0, 0, 3, 2, 5, 1, 0, 0, 1, 1, 1, 1, 0, 0, 1, 1, 3, 2, 0, 1, 2, 0, 1, 1, 1, 0, 1, 0, 1, 0, 1, 0, 0, 0, 0, 1, 0, 2, 0, 1, 2, 0, 0, 2, 0, 2, 0, 0, 0, 1, 3, 0, 0, 2, 0, 0, 0, 0, 0, 0, 0, 0, 0, 0, 0, 0, 0, 2, 0, 0, 2, 1, 0, 0, 1, 1, 0, 1, 0, 0, 0, 0, 0, 0, 1, 0, 0, 0, 2, 1, 0, 2, 0, 1, 1, 0, 1, 1, 2, 0, 1, 2, 0, 0, 2, 2, 1, 0, 1, 0, 0, 0, 3, 1, 1, 1, 1, 0, 1, 0, 1, 1, 2, 2, 0, 1, 0, 1, 0, 1, 0, 0, 1, 1, 0, 1, 1, 0, 1, 0, 1, 4, 0, 1, 0, 0, 0, 1, 0, 0, 1, 2, 2, 1, 0, 1, 2, 1, 0, 1, 0, 1, 0, 2, 2, 0, 0, 3, 0, 0, 0, 0, 0, 0, 3, 0, 1, 0, 3, 0, 0, 2, 2, 0, 1, 3, 0, 1, 2, 2, 3, 0, 1, 1, 0, 2, 1, 1, 0, 0, 3, 0, 1, 0, 1, 1, 2, 1, 0, 0, 2, 1, 1, 1, 0, 1, 3, 0, 2, 0, 0, 0, 0, 3, 2, 0, 2, 0, 1, 1, 1]\n"
     ]
    }
   ],
   "source": [
    "print(frequency_list_summer)"
   ]
  },
  {
   "cell_type": "code",
   "execution_count": 9,
   "id": "60beda9f-8755-449c-a2d0-a5bac64fd401",
   "metadata": {},
   "outputs": [],
   "source": [
    "frequency_list_monsoon=[]\n",
    "for i in range(273):\n",
    "    ill=data.loc[i].at[\"Monsoon\"]\n",
    "    number=1\n",
    "    if ill=='None':\n",
    "        number=0\n",
    "    else:\n",
    "        for letter in ill:\n",
    "            if letter==';':\n",
    "                number+=1\n",
    "    frequency_list_monsoon.append(number)"
   ]
  },
  {
   "cell_type": "code",
   "execution_count": 10,
   "id": "9a9cb51d-03ba-4931-ac1b-383484de5550",
   "metadata": {},
   "outputs": [
    {
     "name": "stdout",
     "output_type": "stream",
     "text": [
      "[0, 1, 1, 1, 1, 0, 1, 2, 0, 0, 1, 0, 1, 0, 1, 0, 0, 4, 2, 0, 4, 0, 1, 0, 0, 0, 0, 6, 0, 0, 0, 0, 1, 0, 1, 0, 2, 0, 3, 0, 0, 5, 0, 0, 3, 0, 6, 0, 0, 0, 3, 3, 0, 0, 0, 0, 1, 2, 4, 2, 0, 0, 0, 2, 0, 0, 0, 0, 1, 1, 1, 0, 0, 1, 0, 0, 0, 0, 0, 1, 1, 1, 2, 0, 0, 2, 0, 2, 0, 0, 0, 0, 2, 0, 0, 1, 0, 0, 0, 0, 0, 1, 0, 0, 0, 0, 0, 0, 0, 0, 0, 0, 0, 0, 0, 0, 1, 0, 0, 1, 0, 0, 0, 1, 0, 0, 0, 0, 0, 0, 5, 0, 0, 4, 0, 0, 1, 0, 3, 1, 0, 0, 1, 5, 0, 0, 3, 2, 0, 0, 0, 0, 0, 0, 3, 0, 0, 1, 0, 0, 0, 0, 0, 2, 1, 2, 0, 0, 0, 0, 0, 0, 0, 0, 1, 0, 0, 0, 0, 0, 1, 0, 0, 1, 1, 2, 0, 0, 0, 0, 0, 0, 0, 3, 2, 2, 0, 0, 1, 0, 0, 1, 0, 0, 0, 0, 2, 0, 0, 2, 0, 0, 0, 0, 0, 1, 4, 0, 0, 0, 4, 0, 0, 2, 2, 0, 1, 4, 0, 0, 2, 1, 0, 0, 0, 2, 0, 0, 0, 0, 0, 0, 3, 0, 1, 0, 3, 0, 2, 0, 0, 0, 2, 1, 0, 0, 0, 0, 0, 0, 0, 0, 0, 0, 0, 0, 3, 0, 1, 1, 1, 0, 1]\n"
     ]
    }
   ],
   "source": [
    "print(frequency_list_monsoon)"
   ]
  },
  {
   "cell_type": "code",
   "execution_count": 11,
   "id": "7fbf3eb8-c300-4a91-9163-4662e2259bbe",
   "metadata": {},
   "outputs": [],
   "source": [
    "frequency_list_winter=[]\n",
    "for i in range(273):\n",
    "    ill=data.loc[i].at[\"Winter\"]\n",
    "    number=1\n",
    "    if ill=='None':\n",
    "        number=0\n",
    "    else:\n",
    "        for letter in ill:\n",
    "            if letter==';':\n",
    "                number+=1\n",
    "    frequency_list_winter.append(number)"
   ]
  },
  {
   "cell_type": "code",
   "execution_count": 12,
   "id": "3195b0c4-106e-485e-a090-dd4b889434df",
   "metadata": {},
   "outputs": [
    {
     "name": "stdout",
     "output_type": "stream",
     "text": [
      "[2, 1, 2, 2, 1, 0, 2, 2, 0, 2, 2, 1, 0, 1, 1, 1, 2, 2, 2, 1, 3, 0, 1, 1, 0, 3, 1, 6, 1, 2, 1, 1, 2, 1, 1, 1, 1, 1, 3, 0, 3, 1, 1, 0, 2, 2, 6, 0, 1, 2, 2, 1, 1, 1, 2, 1, 2, 2, 3, 2, 3, 0, 2, 1, 1, 1, 1, 1, 1, 1, 1, 0, 2, 2, 1, 1, 1, 2, 0, 1, 1, 1, 1, 1, 0, 3, 0, 2, 1, 1, 1, 0, 4, 1, 0, 2, 0, 1, 1, 0, 1, 0, 0, 1, 0, 0, 0, 0, 1, 1, 1, 0, 1, 1, 0, 1, 1, 1, 0, 1, 1, 1, 1, 1, 0, 1, 1, 1, 1, 1, 5, 0, 1, 2, 1, 0, 1, 0, 2, 2, 1, 1, 1, 3, 1, 2, 2, 3, 0, 2, 1, 1, 2, 0, 4, 0, 0, 1, 2, 1, 2, 1, 0, 2, 2, 1, 0, 1, 0, 1, 1, 2, 0, 1, 2, 0, 1, 1, 2, 1, 1, 1, 0, 2, 1, 2, 0, 1, 1, 2, 0, 0, 2, 3, 1, 1, 1, 1, 2, 0, 2, 2, 1, 0, 0, 2, 1, 1, 1, 3, 0, 1, 0, 2, 0, 1, 5, 2, 0, 1, 3, 1, 1, 2, 2, 2, 2, 3, 0, 1, 3, 2, 1, 0, 1, 2, 1, 2, 1, 2, 0, 1, 3, 1, 1, 0, 1, 2, 2, 1, 1, 2, 2, 1, 0, 0, 1, 1, 1, 1, 0, 1, 0, 1, 0, 2, 4, 0, 2, 1, 1, 1, 1]\n"
     ]
    }
   ],
   "source": [
    "print(frequency_list_winter)"
   ]
  },
  {
   "cell_type": "code",
   "execution_count": 13,
   "id": "a65b4da7-11f7-4c31-a908-ed004b45a572",
   "metadata": {},
   "outputs": [],
   "source": [
    "frequency_arr_soa= np.array(frequency_list_soa)\n",
    "frequency_arr_summer= np.array(frequency_list_summer)\n",
    "frequency_arr_monsoon= np.array(frequency_list_monsoon)\n",
    "frequency_arr_winter= np.array(frequency_list_winter)"
   ]
  },
  {
   "cell_type": "code",
   "execution_count": 14,
   "id": "bb9b42dd-7bff-42c9-82c2-338200c4e440",
   "metadata": {},
   "outputs": [],
   "source": [
    "rows,cols=(273,4)\n",
    "list=[]\n",
    "for i in range(rows):\n",
    "    col=[frequency_arr_soa[i],frequency_arr_summer[i],frequency_arr_monsoon[i],frequency_arr_winter[i]]\n",
    "    list.append(col)\n",
    "arr= np.array(list)    "
   ]
  },
  {
   "cell_type": "code",
   "execution_count": 15,
   "id": "cc5a3e95-cb19-4be4-816a-edb3791b98e1",
   "metadata": {},
   "outputs": [],
   "source": [
    "RV1=pd.DataFrame(arr)\n",
    "RV1.columns=['spring/autumn','summer','monsoon','winter']"
   ]
  },
  {
   "cell_type": "markdown",
   "id": "596e8af4",
   "metadata": {},
   "source": [
    "RV1 has the collection of the values of the first random variable for all 4 seasons represented in a tabular form."
   ]
  },
  {
   "cell_type": "code",
   "execution_count": 16,
   "id": "5ab5e6e6-50dc-4aea-bef9-066fa48a1e52",
   "metadata": {},
   "outputs": [
    {
     "data": {
      "text/html": [
       "<div>\n",
       "<style scoped>\n",
       "    .dataframe tbody tr th:only-of-type {\n",
       "        vertical-align: middle;\n",
       "    }\n",
       "\n",
       "    .dataframe tbody tr th {\n",
       "        vertical-align: top;\n",
       "    }\n",
       "\n",
       "    .dataframe thead th {\n",
       "        text-align: right;\n",
       "    }\n",
       "</style>\n",
       "<table border=\"1\" class=\"dataframe\">\n",
       "  <thead>\n",
       "    <tr style=\"text-align: right;\">\n",
       "      <th></th>\n",
       "      <th>spring/autumn</th>\n",
       "      <th>summer</th>\n",
       "      <th>monsoon</th>\n",
       "      <th>winter</th>\n",
       "    </tr>\n",
       "  </thead>\n",
       "  <tbody>\n",
       "    <tr>\n",
       "      <th>0</th>\n",
       "      <td>2</td>\n",
       "      <td>0</td>\n",
       "      <td>0</td>\n",
       "      <td>2</td>\n",
       "    </tr>\n",
       "    <tr>\n",
       "      <th>1</th>\n",
       "      <td>1</td>\n",
       "      <td>0</td>\n",
       "      <td>1</td>\n",
       "      <td>1</td>\n",
       "    </tr>\n",
       "    <tr>\n",
       "      <th>2</th>\n",
       "      <td>1</td>\n",
       "      <td>1</td>\n",
       "      <td>1</td>\n",
       "      <td>2</td>\n",
       "    </tr>\n",
       "    <tr>\n",
       "      <th>3</th>\n",
       "      <td>0</td>\n",
       "      <td>0</td>\n",
       "      <td>1</td>\n",
       "      <td>2</td>\n",
       "    </tr>\n",
       "    <tr>\n",
       "      <th>4</th>\n",
       "      <td>1</td>\n",
       "      <td>0</td>\n",
       "      <td>1</td>\n",
       "      <td>1</td>\n",
       "    </tr>\n",
       "    <tr>\n",
       "      <th>...</th>\n",
       "      <td>...</td>\n",
       "      <td>...</td>\n",
       "      <td>...</td>\n",
       "      <td>...</td>\n",
       "    </tr>\n",
       "    <tr>\n",
       "      <th>268</th>\n",
       "      <td>1</td>\n",
       "      <td>2</td>\n",
       "      <td>1</td>\n",
       "      <td>2</td>\n",
       "    </tr>\n",
       "    <tr>\n",
       "      <th>269</th>\n",
       "      <td>1</td>\n",
       "      <td>0</td>\n",
       "      <td>1</td>\n",
       "      <td>1</td>\n",
       "    </tr>\n",
       "    <tr>\n",
       "      <th>270</th>\n",
       "      <td>3</td>\n",
       "      <td>1</td>\n",
       "      <td>1</td>\n",
       "      <td>1</td>\n",
       "    </tr>\n",
       "    <tr>\n",
       "      <th>271</th>\n",
       "      <td>1</td>\n",
       "      <td>1</td>\n",
       "      <td>0</td>\n",
       "      <td>1</td>\n",
       "    </tr>\n",
       "    <tr>\n",
       "      <th>272</th>\n",
       "      <td>2</td>\n",
       "      <td>1</td>\n",
       "      <td>1</td>\n",
       "      <td>1</td>\n",
       "    </tr>\n",
       "  </tbody>\n",
       "</table>\n",
       "<p>273 rows × 4 columns</p>\n",
       "</div>"
      ],
      "text/plain": [
       "     spring/autumn  summer  monsoon  winter\n",
       "0                2       0        0       2\n",
       "1                1       0        1       1\n",
       "2                1       1        1       2\n",
       "3                0       0        1       2\n",
       "4                1       0        1       1\n",
       "..             ...     ...      ...     ...\n",
       "268              1       2        1       2\n",
       "269              1       0        1       1\n",
       "270              3       1        1       1\n",
       "271              1       1        0       1\n",
       "272              2       1        1       1\n",
       "\n",
       "[273 rows x 4 columns]"
      ]
     },
     "execution_count": 16,
     "metadata": {},
     "output_type": "execute_result"
    }
   ],
   "source": [
    "RV1"
   ]
  },
  {
   "cell_type": "code",
   "execution_count": 17,
   "id": "80f53d2f-bb09-4556-b472-38a7c2fa9d07",
   "metadata": {},
   "outputs": [],
   "source": [
    "arr1=data['#1'].to_numpy()\n",
    "RV2=pd.DataFrame(arr1)\n",
    "RV2.columns=['most preferred treatment']"
   ]
  },
  {
   "cell_type": "code",
   "execution_count": 18,
   "id": "567c83b4-22e3-4cc6-9e58-5de7a57bd7f7",
   "metadata": {},
   "outputs": [
    {
     "data": {
      "text/html": [
       "<div>\n",
       "<style scoped>\n",
       "    .dataframe tbody tr th:only-of-type {\n",
       "        vertical-align: middle;\n",
       "    }\n",
       "\n",
       "    .dataframe tbody tr th {\n",
       "        vertical-align: top;\n",
       "    }\n",
       "\n",
       "    .dataframe thead th {\n",
       "        text-align: right;\n",
       "    }\n",
       "</style>\n",
       "<table border=\"1\" class=\"dataframe\">\n",
       "  <thead>\n",
       "    <tr style=\"text-align: right;\">\n",
       "      <th></th>\n",
       "      <th>most preferred treatment</th>\n",
       "    </tr>\n",
       "  </thead>\n",
       "  <tbody>\n",
       "    <tr>\n",
       "      <th>0</th>\n",
       "      <td>Home remedies</td>\n",
       "    </tr>\n",
       "    <tr>\n",
       "      <th>1</th>\n",
       "      <td>Home remedies</td>\n",
       "    </tr>\n",
       "    <tr>\n",
       "      <th>2</th>\n",
       "      <td>Over-the-counter medication (Allopathic)</td>\n",
       "    </tr>\n",
       "    <tr>\n",
       "      <th>3</th>\n",
       "      <td>Home remedies</td>\n",
       "    </tr>\n",
       "    <tr>\n",
       "      <th>4</th>\n",
       "      <td>Visit a doctor</td>\n",
       "    </tr>\n",
       "    <tr>\n",
       "      <th>...</th>\n",
       "      <td>...</td>\n",
       "    </tr>\n",
       "    <tr>\n",
       "      <th>268</th>\n",
       "      <td>Home remedies</td>\n",
       "    </tr>\n",
       "    <tr>\n",
       "      <th>269</th>\n",
       "      <td>Home remedies</td>\n",
       "    </tr>\n",
       "    <tr>\n",
       "      <th>270</th>\n",
       "      <td>Home remedies</td>\n",
       "    </tr>\n",
       "    <tr>\n",
       "      <th>271</th>\n",
       "      <td>Home remedies</td>\n",
       "    </tr>\n",
       "    <tr>\n",
       "      <th>272</th>\n",
       "      <td>Home remedies</td>\n",
       "    </tr>\n",
       "  </tbody>\n",
       "</table>\n",
       "<p>273 rows × 1 columns</p>\n",
       "</div>"
      ],
      "text/plain": [
       "                     most preferred treatment\n",
       "0                               Home remedies\n",
       "1                               Home remedies\n",
       "2    Over-the-counter medication (Allopathic)\n",
       "3                               Home remedies\n",
       "4                              Visit a doctor\n",
       "..                                        ...\n",
       "268                             Home remedies\n",
       "269                             Home remedies\n",
       "270                             Home remedies\n",
       "271                             Home remedies\n",
       "272                             Home remedies\n",
       "\n",
       "[273 rows x 1 columns]"
      ]
     },
     "execution_count": 18,
     "metadata": {},
     "output_type": "execute_result"
    }
   ],
   "source": [
    "RV2"
   ]
  },
  {
   "cell_type": "markdown",
   "id": "0cb8d94f",
   "metadata": {},
   "source": [
    "For the second random variable, we have assigned values of 1,2,3 and 4 to home remedies, ayurvedic medicines, OTC medication and visiting a doctor respectively. After going through the array and assigning appropriate values, these have been collected in the list \"treatment_list\" as displayed below."
   ]
  },
  {
   "cell_type": "code",
   "execution_count": 19,
   "id": "66c3722a",
   "metadata": {},
   "outputs": [
    {
     "name": "stdout",
     "output_type": "stream",
     "text": [
      "[1, 1, 3, 1, 4, 1, 1, 3, 4, 1, 1, 1, 1, 1, 3, 1, 1, 4, 1, 1, 1, 4, 4, 4, 1, 1, 1, 3, 1, 4, 1, 3, 1, 1, 1, 1, 1, 1, 3, 3, 1, 1, 1, 1, 1, 1, 1, 1, 1, 1, 1, 1, 4, 4, 1, 3, 1, 1, 1, 1, 2, 1, 1, 1, 1, 1, 4, 1, 4, 1, 3, 3, 1, 1, 1, 1, 3, 1, 1, 1, 2, 1, 1, 2, 1, 1, 1, 1, 1, 2, 1, 1, 4, 2, 1, 1, 4, 1, 1, 4, 1, 1, 2, 3, 4, 1, 1, 1, 1, 1, 1, 1, 1, 3, 2, 1, 2, 1, 1, 1, 1, 4, 4, 2, 1, 4, 4, 1, 1, 1, 4, 3, 1, 1, 1, 1, 2, 1, 1, 1, 4, 1, 1, 1, 3, 1, 1, 2, 1, 1, 2, 1, 3, 1, 1, 1, 1, 1, 1, 1, 1, 4, 1, 1, 3, 2, 1, 1, 4, 1, 1, 4, 1, 1, 1, 1, 4, 1, 1, 1, 1, 3, 1, 3, 1, 1, 1, 1, 1, 1, 1, 1, 1, 1, 1, 2, 1, 1, 1]\n"
     ]
    }
   ],
   "source": [
    "treatment_list=[]\n",
    "for i in range(199):\n",
    "    if arr1[i]=='Home remedies':\n",
    "        treatment_list.append(1)\n",
    "    elif arr1[i]=='Ayurvedic medicines':\n",
    "        treatment_list.append(2)\n",
    "    elif arr1[i]=='Over-the-counter medication (Allopathic)':\n",
    "        treatment_list.append(3)\n",
    "    else:\n",
    "        treatment_list.append(4)    \n",
    "print(treatment_list) \n",
    "treatment_arr=np.array(treatment_list) "
   ]
  },
  {
   "cell_type": "markdown",
   "id": "93f4e177-afbf-4ccc-9c04-fb15f1fb0dc2",
   "metadata": {
    "tags": []
   },
   "source": [
    "## Description of our data"
   ]
  },
  {
   "cell_type": "markdown",
   "id": "6bef2585",
   "metadata": {},
   "source": [
    "Given the values of the random variables, the next step is to look at quantities like the mean, maximum and minimum."
   ]
  },
  {
   "cell_type": "code",
   "execution_count": 41,
   "id": "efbad107-c454-47e5-83fb-9f49a6487cae",
   "metadata": {},
   "outputs": [],
   "source": [
    "mean_soa= np.mean(frequency_arr_soa)\n",
    "mean_summer=np.mean(frequency_arr_summer)\n",
    "mean_monsoon= np.mean(frequency_arr_monsoon)\n",
    "mean_winter= np.mean(frequency_arr_winter)\n",
    "mean_treatment=np.mean(treatment_arr)"
   ]
  },
  {
   "cell_type": "code",
   "execution_count": 42,
   "id": "21f7c73b-904b-49b0-b2b8-8a032d79c100",
   "metadata": {},
   "outputs": [],
   "source": [
    "min_soa= np.min(frequency_arr_soa)\n",
    "min_summer=np.min(frequency_arr_summer)\n",
    "min_monsoon= np.min(frequency_arr_monsoon)\n",
    "min_winter= np.min(frequency_arr_winter)\n",
    "min_treatment=np.min(treatment_arr)"
   ]
  },
  {
   "cell_type": "code",
   "execution_count": 43,
   "id": "eba34413-9ca6-4060-9798-dafd238ff8d2",
   "metadata": {},
   "outputs": [],
   "source": [
    "max_soa= np.max(frequency_arr_soa)\n",
    "max_summer=np.max(frequency_arr_summer)\n",
    "max_monsoon= np.max(frequency_arr_monsoon)\n",
    "max_winter= np.max(frequency_arr_winter)\n",
    "max_treatment=np.max(treatment_arr)"
   ]
  },
  {
   "cell_type": "code",
   "execution_count": 44,
   "id": "fb157e28-f949-45bf-b716-45f36b3e9829",
   "metadata": {},
   "outputs": [],
   "source": [
    "array=[[mean_soa,mean_summer,mean_monsoon,mean_winter,mean_treatment],[min_soa,min_summer,min_monsoon,min_winter,min_treatment],[max_soa,max_summer,max_monsoon,max_winter,max_treatment]]"
   ]
  },
  {
   "cell_type": "code",
   "execution_count": 45,
   "id": "e8e7d779-c0cc-439f-8acc-3c4f333b28e5",
   "metadata": {},
   "outputs": [
    {
     "data": {
      "text/html": [
       "<div>\n",
       "<style scoped>\n",
       "    .dataframe tbody tr th:only-of-type {\n",
       "        vertical-align: middle;\n",
       "    }\n",
       "\n",
       "    .dataframe tbody tr th {\n",
       "        vertical-align: top;\n",
       "    }\n",
       "\n",
       "    .dataframe thead th {\n",
       "        text-align: right;\n",
       "    }\n",
       "</style>\n",
       "<table border=\"1\" class=\"dataframe\">\n",
       "  <thead>\n",
       "    <tr style=\"text-align: right;\">\n",
       "      <th></th>\n",
       "      <th>spring/autumn</th>\n",
       "      <th>summer</th>\n",
       "      <th>monsoon</th>\n",
       "      <th>winter</th>\n",
       "      <th>treatment method number</th>\n",
       "    </tr>\n",
       "  </thead>\n",
       "  <tbody>\n",
       "    <tr>\n",
       "      <th>mean</th>\n",
       "      <td>1.128205</td>\n",
       "      <td>0.805861</td>\n",
       "      <td>0.659341</td>\n",
       "      <td>1.223443</td>\n",
       "      <td>1.638191</td>\n",
       "    </tr>\n",
       "    <tr>\n",
       "      <th>min</th>\n",
       "      <td>0.000000</td>\n",
       "      <td>0.000000</td>\n",
       "      <td>0.000000</td>\n",
       "      <td>0.000000</td>\n",
       "      <td>1.000000</td>\n",
       "    </tr>\n",
       "    <tr>\n",
       "      <th>max</th>\n",
       "      <td>7.000000</td>\n",
       "      <td>5.000000</td>\n",
       "      <td>6.000000</td>\n",
       "      <td>6.000000</td>\n",
       "      <td>4.000000</td>\n",
       "    </tr>\n",
       "  </tbody>\n",
       "</table>\n",
       "</div>"
      ],
      "text/plain": [
       "      spring/autumn    summer   monsoon    winter  treatment method number\n",
       "mean       1.128205  0.805861  0.659341  1.223443                 1.638191\n",
       "min        0.000000  0.000000  0.000000  0.000000                 1.000000\n",
       "max        7.000000  5.000000  6.000000  6.000000                 4.000000"
      ]
     },
     "execution_count": 45,
     "metadata": {},
     "output_type": "execute_result"
    }
   ],
   "source": [
    "description=pd.DataFrame(array)\n",
    "description.columns=['spring/autumn','summer','monsoon','winter','treatment method number']\n",
    "description.index=['mean','min','max']\n",
    "description"
   ]
  },
  {
   "cell_type": "markdown",
   "id": "533d5dc6-10db-42ba-a205-2e596f4ebac3",
   "metadata": {},
   "source": [
    "## Visualising the Random Variables"
   ]
  },
  {
   "cell_type": "markdown",
   "id": "c356069b",
   "metadata": {},
   "source": [
    "The first set of histograms corresponds to the first random variable, that is the frequency of falling ill in a particular season."
   ]
  },
  {
   "cell_type": "code",
   "execution_count": 46,
   "id": "1897e5de",
   "metadata": {},
   "outputs": [
    {
     "data": {
      "text/plain": [
       "Text(0, 0.5, 'Frequency of diseases occuring in Spring/Autumn')"
      ]
     },
     "execution_count": 46,
     "metadata": {},
     "output_type": "execute_result"
    },
    {
     "data": {
      "image/png": "[encoded data removed]",
      "text/plain": [
       "<Figure size 432x288 with 1 Axes>"
      ]
     },
     "metadata": {
      "needs_background": "light"
     },
     "output_type": "display_data"
    }
   ],
   "source": [
    "plt.hist(frequency_arr_soa, range=(0.5,4.5), bins=4, rwidth=0.2)\n",
    "plt.xlabel('Number of Diseases')\n",
    "plt.ylabel('Frequency of diseases occuring in Spring/Autumn')"
   ]
  },
  {
   "cell_type": "code",
   "execution_count": 47,
   "id": "77e65c19",
   "metadata": {},
   "outputs": [
    {
     "data": {
      "text/plain": [
       "Text(0, 0.5, 'Frequency of diseases occuring in Summer')"
      ]
     },
     "execution_count": 47,
     "metadata": {},
     "output_type": "execute_result"
    },
    {
     "data": {
      "image/png": "[encoded data removed]",
      "text/plain": [
       "<Figure size 432x288 with 1 Axes>"
      ]
     },
     "metadata": {
      "needs_background": "light"
     },
     "output_type": "display_data"
    }
   ],
   "source": [
    "plt.hist(frequency_arr_summer, range=(0.5,4.5), bins=4, rwidth=0.2)\n",
    "plt.xlabel('Number of Diseases')\n",
    "plt.ylabel('Frequency of diseases occuring in Summer')"
   ]
  },
  {
   "cell_type": "code",
   "execution_count": 48,
   "id": "3242617c",
   "metadata": {},
   "outputs": [
    {
     "data": {
      "text/plain": [
       "Text(0, 0.5, 'Frequency of diseases occuring in Winter')"
      ]
     },
     "execution_count": 48,
     "metadata": {},
     "output_type": "execute_result"
    },
    {
     "data": {
      "image/png": "[encoded data removed]",
      "text/plain": [
       "<Figure size 432x288 with 1 Axes>"
      ]
     },
     "metadata": {
      "needs_background": "light"
     },
     "output_type": "display_data"
    }
   ],
   "source": [
    "plt.hist(frequency_arr_winter, range=(0.5,4.5), bins=4, rwidth=0.2)\n",
    "plt.xlabel('Number of Diseases')\n",
    "plt.ylabel('Frequency of diseases occuring in Winter')"
   ]
  },
  {
   "cell_type": "code",
   "execution_count": 49,
   "id": "9c63a5bf",
   "metadata": {},
   "outputs": [
    {
     "data": {
      "text/plain": [
       "Text(0, 0.5, 'Frequency of diseases occuring in Monsoon')"
      ]
     },
     "execution_count": 49,
     "metadata": {},
     "output_type": "execute_result"
    },
    {
     "data": {
      "image/png": "[encoded data removed]",
      "text/plain": [
       "<Figure size 432x288 with 1 Axes>"
      ]
     },
     "metadata": {
      "needs_background": "light"
     },
     "output_type": "display_data"
    }
   ],
   "source": [
    "plt.hist(frequency_arr_monsoon, range=(0.5,4.5), bins=4, rwidth=0.2)\n",
    "plt.xlabel('Number of Diseases')\n",
    "plt.ylabel('Frequency of diseases occuring in Monsoon')"
   ]
  },
  {
   "cell_type": "markdown",
   "id": "4cc84646",
   "metadata": {},
   "source": [
    "The next set of plots is the distribution the dataset would have, had it been continuous."
   ]
  },
  {
   "cell_type": "code",
   "execution_count": 50,
   "id": "d9d0c20e",
   "metadata": {},
   "outputs": [
    {
     "name": "stderr",
     "output_type": "stream",
     "text": [
      "C:\\Users\\Aayushi Barve\\anaconda3\\lib\\site-packages\\seaborn\\distributions.py:2619: FutureWarning: `distplot` is a deprecated function and will be removed in a future version. Please adapt your code to use either `displot` (a figure-level function with similar flexibility) or `histplot` (an axes-level function for histograms).\n",
      "  warnings.warn(msg, FutureWarning)\n"
     ]
    },
    {
     "data": {
      "text/plain": [
       "<AxesSubplot:ylabel='Density'>"
      ]
     },
     "execution_count": 50,
     "metadata": {},
     "output_type": "execute_result"
    },
    {
     "data": {
      "image/png": "[encoded data removed]",
      "text/plain": [
       "<Figure size 432x288 with 1 Axes>"
      ]
     },
     "metadata": {
      "needs_background": "light"
     },
     "output_type": "display_data"
    }
   ],
   "source": [
    "sns.distplot(frequency_arr_soa)"
   ]
  },
  {
   "cell_type": "code",
   "execution_count": 51,
   "id": "ee2f0b5d",
   "metadata": {},
   "outputs": [
    {
     "name": "stderr",
     "output_type": "stream",
     "text": [
      "C:\\Users\\Aayushi Barve\\anaconda3\\lib\\site-packages\\seaborn\\distributions.py:2619: FutureWarning: `distplot` is a deprecated function and will be removed in a future version. Please adapt your code to use either `displot` (a figure-level function with similar flexibility) or `histplot` (an axes-level function for histograms).\n",
      "  warnings.warn(msg, FutureWarning)\n"
     ]
    },
    {
     "data": {
      "text/plain": [
       "<AxesSubplot:ylabel='Density'>"
      ]
     },
     "execution_count": 51,
     "metadata": {},
     "output_type": "execute_result"
    },
    {
     "data": {
      "image/png": "[encoded data removed]",
      "text/plain": [
       "<Figure size 432x288 with 1 Axes>"
      ]
     },
     "metadata": {
      "needs_background": "light"
     },
     "output_type": "display_data"
    }
   ],
   "source": [
    "sns.distplot(frequency_arr_summer)"
   ]
  },
  {
   "cell_type": "code",
   "execution_count": 52,
   "id": "06eb34de",
   "metadata": {},
   "outputs": [
    {
     "name": "stderr",
     "output_type": "stream",
     "text": [
      "C:\\Users\\Aayushi Barve\\anaconda3\\lib\\site-packages\\seaborn\\distributions.py:2619: FutureWarning: `distplot` is a deprecated function and will be removed in a future version. Please adapt your code to use either `displot` (a figure-level function with similar flexibility) or `histplot` (an axes-level function for histograms).\n",
      "  warnings.warn(msg, FutureWarning)\n"
     ]
    },
    {
     "data": {
      "text/plain": [
       "<AxesSubplot:ylabel='Density'>"
      ]
     },
     "execution_count": 52,
     "metadata": {},
     "output_type": "execute_result"
    },
    {
     "data": {
      "image/png": "[encoded data removed]",
      "text/plain": [
       "<Figure size 432x288 with 1 Axes>"
      ]
     },
     "metadata": {
      "needs_background": "light"
     },
     "output_type": "display_data"
    }
   ],
   "source": [
    "sns.distplot(frequency_arr_winter)"
   ]
  },
  {
   "cell_type": "code",
   "execution_count": 53,
   "id": "1f10e693",
   "metadata": {},
   "outputs": [
    {
     "name": "stderr",
     "output_type": "stream",
     "text": [
      "C:\\Users\\Aayushi Barve\\anaconda3\\lib\\site-packages\\seaborn\\distributions.py:2619: FutureWarning: `distplot` is a deprecated function and will be removed in a future version. Please adapt your code to use either `displot` (a figure-level function with similar flexibility) or `histplot` (an axes-level function for histograms).\n",
      "  warnings.warn(msg, FutureWarning)\n"
     ]
    },
    {
     "data": {
      "text/plain": [
       "<AxesSubplot:ylabel='Density'>"
      ]
     },
     "execution_count": 53,
     "metadata": {},
     "output_type": "execute_result"
    },
    {
     "data": {
      "image/png": "[encoded data removed]",
      "text/plain": [
       "<Figure size 432x288 with 1 Axes>"
      ]
     },
     "metadata": {
      "needs_background": "light"
     },
     "output_type": "display_data"
    }
   ],
   "source": [
    "sns.distplot(frequency_arr_monsoon, )"
   ]
  },
  {
   "cell_type": "markdown",
   "id": "461295af",
   "metadata": {},
   "source": [
    "The next set of plots includes joint plots of the random variable, taken two seasons at a time."
   ]
  },
  {
   "cell_type": "code",
   "execution_count": 55,
   "id": "314bbfb8",
   "metadata": {},
   "outputs": [
    {
     "data": {
      "text/plain": [
       "<seaborn.axisgrid.JointGrid at 0x1b8e783c520>"
      ]
     },
     "execution_count": 55,
     "metadata": {},
     "output_type": "execute_result"
    },
    {
     "data": {
      "image/png": "[encoded data removed]",
      "text/plain": [
       "<Figure size 432x432 with 3 Axes>"
      ]
     },
     "metadata": {
      "needs_background": "light"
     },
     "output_type": "display_data"
    }
   ],
   "source": [
    "sns.jointplot(x=frequency_arr_soa, y=frequency_arr_summer)"
   ]
  },
  {
   "cell_type": "code",
   "execution_count": 56,
   "id": "1b9cc939",
   "metadata": {},
   "outputs": [
    {
     "data": {
      "text/plain": [
       "<seaborn.axisgrid.JointGrid at 0x1b8e79474c0>"
      ]
     },
     "execution_count": 56,
     "metadata": {},
     "output_type": "execute_result"
    },
    {
     "data": {
      "image/png": "[encoded data removed]",
      "text/plain": [
       "<Figure size 432x432 with 3 Axes>"
      ]
     },
     "metadata": {
      "needs_background": "light"
     },
     "output_type": "display_data"
    }
   ],
   "source": [
    "sns.jointplot(x=frequency_arr_soa, y=frequency_arr_winter)"
   ]
  },
  {
   "cell_type": "code",
   "execution_count": 55,
   "id": "29ab9857",
   "metadata": {
    "scrolled": true
   },
   "outputs": [
    {
     "data": {
      "text/plain": [
       "<seaborn.axisgrid.JointGrid at 0x123811003a0>"
      ]
     },
     "execution_count": 55,
     "metadata": {},
     "output_type": "execute_result"
    },
    {
     "data": {
      "image/png": "[encoded data removed]",
      "text/plain": [
       "<Figure size 432x432 with 3 Axes>"
      ]
     },
     "metadata": {
      "needs_background": "light"
     },
     "output_type": "display_data"
    }
   ],
   "source": [
    "sns.jointplot(x=frequency_arr_soa, y=frequency_arr_monsoon)"
   ]
  },
  {
   "cell_type": "code",
   "execution_count": 56,
   "id": "f53601a2",
   "metadata": {},
   "outputs": [
    {
     "data": {
      "text/plain": [
       "<seaborn.axisgrid.JointGrid at 0x1238055e880>"
      ]
     },
     "execution_count": 56,
     "metadata": {},
     "output_type": "execute_result"
    },
    {
     "data": {
      "image/png": "[encoded data removed]",
      "text/plain": [
       "<Figure size 432x432 with 3 Axes>"
      ]
     },
     "metadata": {
      "needs_background": "light"
     },
     "output_type": "display_data"
    }
   ],
   "source": [
    "sns.jointplot(x=frequency_arr_summer, y=frequency_arr_winter)"
   ]
  },
  {
   "cell_type": "code",
   "execution_count": 57,
   "id": "f996dc3e",
   "metadata": {},
   "outputs": [
    {
     "data": {
      "text/plain": [
       "<seaborn.axisgrid.JointGrid at 0x12380c3c1c0>"
      ]
     },
     "execution_count": 57,
     "metadata": {},
     "output_type": "execute_result"
    },
    {
     "data": {
      "image/png": "[encoded data removed]",
      "text/plain": [
       "<Figure size 432x432 with 3 Axes>"
      ]
     },
     "metadata": {
      "needs_background": "light"
     },
     "output_type": "display_data"
    }
   ],
   "source": [
    "sns.jointplot(x=frequency_arr_summer, y=frequency_arr_monsoon)"
   ]
  },
  {
   "cell_type": "code",
   "execution_count": 58,
   "id": "21ab4520",
   "metadata": {},
   "outputs": [
    {
     "data": {
      "text/plain": [
       "<seaborn.axisgrid.JointGrid at 0x1238123caf0>"
      ]
     },
     "execution_count": 58,
     "metadata": {},
     "output_type": "execute_result"
    },
    {
     "data": {
      "image/png": "[encoded data removed]",
      "text/plain": [
       "<Figure size 432x432 with 3 Axes>"
      ]
     },
     "metadata": {
      "needs_background": "light"
     },
     "output_type": "display_data"
    }
   ],
   "source": [
    "sns.jointplot(x=frequency_arr_winter, y=frequency_arr_monsoon)"
   ]
  },
  {
   "cell_type": "markdown",
   "id": "8b4013df",
   "metadata": {},
   "source": [
    "The below plots correspond to the second random variable, which is the most preferred treatment method.<br>\n",
    "1: Home remedies <br>\n",
    "2: Ayurvedic medicines <br>\n",
    "3: Over-the-counter medication (Allopathic) <br>\n",
    "4: Visit a doctor"
   ]
  },
  {
   "cell_type": "code",
   "execution_count": 58,
   "id": "c8bc6fe0-0d9a-4b3b-83be-5969e9f39574",
   "metadata": {},
   "outputs": [
    {
     "data": {
      "text/plain": [
       "Text(0, 0.5, 'Number of people')"
      ]
     },
     "execution_count": 58,
     "metadata": {},
     "output_type": "execute_result"
    },
    {
     "data": {
      "image/png": "[encoded data removed]",
      "text/plain": [
       "<Figure size 432x288 with 1 Axes>"
      ]
     },
     "metadata": {
      "needs_background": "light"
     },
     "output_type": "display_data"
    }
   ],
   "source": [
    "plt.hist(treatment_list, range=(0.5,4.5), bins=4, rwidth=0.2)\n",
    "plt.xlabel('Most preferred treatment method')\n",
    "plt.ylabel('Number of people')"
   ]
  },
  {
   "cell_type": "code",
   "execution_count": 59,
   "id": "5af90b09",
   "metadata": {},
   "outputs": [
    {
     "name": "stderr",
     "output_type": "stream",
     "text": [
      "C:\\Users\\Aayushi Barve\\anaconda3\\lib\\site-packages\\seaborn\\distributions.py:2619: FutureWarning: `distplot` is a deprecated function and will be removed in a future version. Please adapt your code to use either `displot` (a figure-level function with similar flexibility) or `histplot` (an axes-level function for histograms).\n",
      "  warnings.warn(msg, FutureWarning)\n"
     ]
    },
    {
     "data": {
      "text/plain": [
       "<AxesSubplot:ylabel='Density'>"
      ]
     },
     "execution_count": 59,
     "metadata": {},
     "output_type": "execute_result"
    },
    {
     "data": {
      "image/png": "[encoded data removed]",
      "text/plain": [
       "<Figure size 432x288 with 1 Axes>"
      ]
     },
     "metadata": {
      "needs_background": "light"
     },
     "output_type": "display_data"
    }
   ],
   "source": [
    "sns.distplot(treatment_list)"
   ]
  },
  {
   "cell_type": "markdown",
   "id": "b3916c52-1e6e-4350-824f-0e93551b7539",
   "metadata": {},
   "source": [
    "## Hypotheses Testing"
   ]
  },
  {
   "cell_type": "markdown",
   "id": "99f71931-690f-4788-995e-48ab2be3e1d5",
   "metadata": {},
   "source": [
    "We will see that if there is any comparison between the number of people falling ill in winters versus monsoon."
   ]
  },
  {
   "attachments": {
    "img.png": {
     "image/png": "[encoded data removed]"
    }
   },
   "cell_type": "markdown",
   "id": "3469802a-771e-440a-b870-35e3b93dfa2e",
   "metadata": {},
   "source": [
    "![img.png](attachment:img.png)"
   ]
  },
  {
   "cell_type": "markdown",
   "id": "caa9417c-3406-4328-9da9-ee4bd22cee4c",
   "metadata": {},
   "source": [
    "The random variable x will take two values, i.e. '0' for not falling ill and '1' for falling ill."
   ]
  },
  {
   "cell_type": "markdown",
   "id": "f3d85a0f-cdce-47e7-b720-af8a6581899a",
   "metadata": {},
   "source": [
    "Hence, we get mean for winters as "
   ]
  },
  {
   "cell_type": "markdown",
   "id": "688e7170-c105-4e86-8c7e-31a945f855ee",
   "metadata": {},
   "source": [
    "No. of people falling ill/total number of people surveyed = 208/273"
   ]
  },
  {
   "cell_type": "markdown",
   "id": "c62a0861-dc52-435c-a7c7-e14763796a7d",
   "metadata": {},
   "source": [
    "Similarly for monsoon, we get mean = 89/273"
   ]
  },
  {
   "cell_type": "markdown",
   "id": "bcfdc7e9-3536-463d-91fc-3310d0a4821d",
   "metadata": {},
   "source": [
    "Formulation of Hypothesis-"
   ]
  },
  {
   "cell_type": "markdown",
   "id": "28e0dd34-9bd7-4d07-894b-86182098ef81",
   "metadata": {},
   "source": [
    "A."
   ]
  },
  {
   "cell_type": "markdown",
   "id": "a8e332d3-ebe7-4bb4-9a95-f0cc468dec9c",
   "metadata": {},
   "source": [
    "Null Hypothesis: [mean(winters) - mean(monsoon)] <= 0"
   ]
  },
  {
   "cell_type": "markdown",
   "id": "af28adfb-2a42-4943-862a-a4784fa72e25",
   "metadata": {},
   "source": [
    "Alternate Hypothesis: [mean(winters) - mean(monsoon)] > 0"
   ]
  },
  {
   "cell_type": "markdown",
   "id": "afaf45fe-a37b-47ff-9c18-75b6b4854a6b",
   "metadata": {},
   "source": [
    "Qualitative description of our Hypothesis -"
   ]
  },
  {
   "cell_type": "markdown",
   "id": "51b3d1c2-16bf-40c6-b6c0-5158d6e8af4e",
   "metadata": {},
   "source": [
    "Null Hypothesis: We assume that the people fall ill equally or less in winters and   monsoon and there is NO significant difference between the average number of people falling ill for a given dataset."
   ]
  },
  {
   "cell_type": "markdown",
   "id": "b8c7a5b8-80c8-4d06-a6d9-0c84eff2a2a5",
   "metadata": {},
   "source": [
    "Alternate Hypothesis: People fall ill more in one particular season than another and there IS a significant amount of difference between averages of two seasons."
   ]
  },
  {
   "cell_type": "markdown",
   "id": "0a5e9677-fd5f-4c75-9967-410cbe987690",
   "metadata": {},
   "source": [
    "B."
   ]
  },
  {
   "cell_type": "markdown",
   "id": "e2c1d566-2539-4e77-8ef6-4496af37efd1",
   "metadata": {},
   "source": [
    "We are taking the significance level alpha = 0.05"
   ]
  },
  {
   "cell_type": "markdown",
   "id": "e15ff622-af4a-463a-82e4-c6ceaee99ca2",
   "metadata": {},
   "source": [
    "C."
   ]
  },
  {
   "cell_type": "markdown",
   "id": "bfc515ac-a995-4647-8149-2f08661ddb6c",
   "metadata": {},
   "source": [
    "Testing variable Z = 11.37"
   ]
  },
  {
   "cell_type": "markdown",
   "id": "8d8fed8d-a83a-4dd6-9d34-7b76edd170e8",
   "metadata": {},
   "source": [
    "D."
   ]
  },
  {
   "cell_type": "markdown",
   "id": "aa746005-a76f-4b4e-9ec1-6ecfce42d3e2",
   "metadata": {},
   "source": [
    "P- value (z<=11.73) = 1-4.473e-32"
   ]
  },
  {
   "cell_type": "markdown",
   "id": "8d43fe3a-bd83-4a36-9fad-932888094d40",
   "metadata": {},
   "source": [
    "Comparison between P-value and Significance level(5%) "
   ]
  },
  {
   "cell_type": "markdown",
   "id": "2a77d1af-6ae2-4281-aee7-d897d7e5d098",
   "metadata": {},
   "source": [
    "1. If p-value < alpha"
   ]
  },
  {
   "cell_type": "markdown",
   "id": "97434d1f-fd33-45f0-b7dc-b5b8e324f7f4",
   "metadata": {},
   "source": [
    "Conclusion: Reject the null hypothesis ( The number of people falling ill in winters is more than that in monsoon)"
   ]
  },
  {
   "cell_type": "markdown",
   "id": "3e2ce4f8-2943-49c8-95de-455668674261",
   "metadata": {},
   "source": [
    "2. if p-value>alpha"
   ]
  },
  {
   "cell_type": "markdown",
   "id": "528b621f-2015-4f07-a41b-9febe11a5056",
   "metadata": {},
   "source": [
    "Conclusion: Fail to reject the null hypothesis ( The number of people falling ill in winters is less than that in monsoon)"
   ]
  },
  {
   "cell_type": "markdown",
   "id": "8494d1e5-5b74-48a9-8fc6-424ddf291a09",
   "metadata": {},
   "source": [
    "E."
   ]
  },
  {
   "cell_type": "markdown",
   "id": "9d8c9525-1be4-4c04-9e9c-6c37e682db31",
   "metadata": {},
   "source": [
    "We can see that p-value > alpha, hence, we fail to reject the null hypothesis!"
   ]
  },
  {
   "cell_type": "markdown",
   "id": "f5ed8645",
   "metadata": {},
   "source": [
    "## Conclusion"
   ]
  },
  {
   "cell_type": "markdown",
   "id": "1e50da60",
   "metadata": {},
   "source": [
    "This project gave us a completely different perspective on how complex data sets are analyzed and how we can draw various inferences from them. For the particular hypothesis we had taken, one might say by just looking at the data that people are more likely to fall ill in winters than in monsoons, but after actually calculating the p-value, the surprising result we obtain is that this is not the case, and this is not a valid conclusion to come to. We were able to look at a variety of ways to visualize the same data set and compare it to others using python, which proved to be a very useful tool in our analysis.\n",
    "We learned that the conclusions that we come to just by looking at a particular histogram might not be the same as the ones we come to by rigorously testing the hypotheses we formulated. <br><br>\n",
    "While ideating the project and deciding the topic, it felt like we had a pretty clear idea of what we were going to analyze and what we were going to compare, but when it actually came to defining random variables and making the quantities we had decided to observe measurable, we struggled with converting our data to numerical quantities that would actually have meaning when operated upon. It was also a bit tough to test our hypothesis since we didn't have a great idea of what the distribution of our test statistic would look like, but nevertheless, overcoming these problems and reaching the result was worth it.<br><br>\n",
    "We would like to thank Prof. Amuthan A Ramabathiran for giving us the opportunity to do this project despite the short duration of this semester and helping us practice all the concepts we had learned so far in the course in an application of our choice. It was a great experience and we will surely remember this for a very long time"
   ]
  },
  {
   "cell_type": "markdown",
   "id": "4d7b6787",
   "metadata": {},
   "source": [
    "### Contributions:\n",
    "Aayushi Barve: Code for extraction of random variables from textual data<br>\n",
    "Apoorva Kanti: Code for description of data, representing random variables in tabular form<br>\n",
    "Disha Gupta: Hypothesis testing<br>\n",
    "Ishan Upadhyay: Code for plotting distributions<br>\n",
    "Google form was collaborated on by everyone."
   ]
  },
  {
   "cell_type": "code",
   "execution_count": null,
   "id": "0896254c",
   "metadata": {},
   "outputs": [],
   "source": []
  }
 ],
 "metadata": {
  "kernelspec": {
   "display_name": "Python 3 (ipykernel)",
   "language": "python",
   "name": "python3"
  },
  "language_info": {
   "codemirror_mode": {
    "name": "ipython",
    "version": 3
   },
   "file_extension": ".py",
   "mimetype": "text/x-python",
   "name": "python",
   "nbconvert_exporter": "python",
   "pygments_lexer": "ipython3",
   "version": "3.9.7"
  }
 },
 "nbformat": 4,
 "nbformat_minor": 5
}
